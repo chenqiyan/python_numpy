{
 "cells": [
  {
   "cell_type": "markdown",
   "id": "003a21b2",
   "metadata": {},
   "source": [
    "## array 创建和生成\n",
    "     \n",
    "     1、传入list   "
   ]
  },
  {
   "cell_type": "code",
   "execution_count": 2,
   "id": "60a417b8",
   "metadata": {},
   "outputs": [],
   "source": [
    "import numpy as np\n"
   ]
  },
  {
   "cell_type": "code",
   "execution_count": 2,
   "id": "425ebf86",
   "metadata": {
    "scrolled": true
   },
   "outputs": [
    {
     "data": {
      "text/plain": [
       "array([1, 2, 3])"
      ]
     },
     "execution_count": 2,
     "metadata": {},
     "output_type": "execute_result"
    }
   ],
   "source": [
    "np.array((1,2,3))"
   ]
  },
  {
   "cell_type": "markdown",
   "id": "09e2964f",
   "metadata": {},
   "source": [
    "   2、使用 linspace/logspace 生成"
   ]
  },
  {
   "cell_type": "code",
   "execution_count": 4,
   "id": "809a5718",
   "metadata": {},
   "outputs": [
    {
     "data": {
      "text/plain": [
       "array([[0. , 1.8, 3.6],\n",
       "       [5.4, 7.2, 9. ]])"
      ]
     },
     "execution_count": 4,
     "metadata": {},
     "output_type": "execute_result"
    }
   ],
   "source": [
    "np.linspace(0, 9, 6).reshape(2, 3)"
   ]
  },
  {
   "cell_type": "markdown",
   "id": "a6352ed8",
   "metadata": {},
   "source": [
    "⭐3、使用random 生成   常用于神经网络的初始化、随机生成测试数据"
   ]
  },
  {
   "cell_type": "code",
   "execution_count": 5,
   "id": "f34980d3",
   "metadata": {},
   "outputs": [
    {
     "data": {
      "text/plain": [
       "array([[0.53563891, 0.87044493, 0.07984134],\n",
       "       [0.85044135, 0.2640534 , 0.85068769]])"
      ]
     },
     "execution_count": 5,
     "metadata": {},
     "output_type": "execute_result"
    }
   ],
   "source": [
    "# 0-1l连续均匀分布\n",
    "np.random.rand(2,3)"
   ]
  },
  {
   "cell_type": "code",
   "execution_count": 6,
   "id": "4a687213",
   "metadata": {},
   "outputs": [
    {
     "data": {
      "text/plain": [
       "array([[-1.74691268, -0.68079741,  0.48098039,  0.20683811],\n",
       "       [-0.79226265,  1.2341618 ,  0.31665079, -0.11509181]])"
      ]
     },
     "execution_count": 6,
     "metadata": {},
     "output_type": "execute_result"
    }
   ],
   "source": [
    "#标准正态分布\n",
    "np.random.randn(2,4)"
   ]
  },
  {
   "cell_type": "code",
   "execution_count": 7,
   "id": "94017dee",
   "metadata": {},
   "outputs": [
    {
     "data": {
      "text/plain": [
       "array([[-0.17849819, -1.01550569,  0.52293846,  0.37389139,  0.52490671],\n",
       "       [-0.50293242, -0.13985853,  2.06332971, -1.9458232 ,  0.36648421],\n",
       "       [-0.34187044, -0.59627805,  0.58580132,  0.20272636,  0.01875406]])"
      ]
     },
     "execution_count": 7,
     "metadata": {},
     "output_type": "execute_result"
    }
   ],
   "source": [
    "#高斯分布\n",
    "np.random.normal(0,1,(3,5))"
   ]
  },
  {
   "cell_type": "markdown",
   "id": "435e42ab",
   "metadata": {},
   "source": [
    "## 统计和属性\n",
    "- 尺寸相关\n",
    "- 最大、最小、中位、分位值\n",
    "- 平均、求和、标准差等\n",
    "\n",
    "两个特性\n",
    "- 按维度（指定 axis）求结果。一般0表示列1表示行，可以用「**沿着行/列操作**」这样理解，不确定时可以拿个例子试一下。\n",
    "- 计算后保持维度（`keepdims=True`）"
   ]
  },
  {
   "cell_type": "code",
   "execution_count": 11,
   "id": "97f51e56",
   "metadata": {},
   "outputs": [],
   "source": [
    "arr=np.random.uniform(0,1,(3,4))"
   ]
  },
  {
   "cell_type": "code",
   "execution_count": 12,
   "id": "2fedf948",
   "metadata": {},
   "outputs": [
    {
     "data": {
      "text/plain": [
       "array([[0.00242359, 0.97083515, 0.65598727, 0.5191106 ],\n",
       "       [0.62931058, 0.82723109, 0.30505808, 0.5843532 ],\n",
       "       [0.09747276, 0.93091347, 0.23856667, 0.0332754 ]])"
      ]
     },
     "execution_count": 12,
     "metadata": {},
     "output_type": "execute_result"
    }
   ],
   "source": [
    "arr"
   ]
  },
  {
   "cell_type": "code",
   "execution_count": 13,
   "id": "3e64511a",
   "metadata": {},
   "outputs": [
    {
     "data": {
      "text/plain": [
       "(3, 4)"
      ]
     },
     "execution_count": 13,
     "metadata": {},
     "output_type": "execute_result"
    }
   ],
   "source": [
    "arra.shape"
   ]
  },
  {
   "cell_type": "markdown",
   "id": "01bdb5e8",
   "metadata": {},
   "source": [
    " 最大最小 np.max/min"
   ]
  },
  {
   "cell_type": "code",
   "execution_count": 14,
   "id": "7977ce85",
   "metadata": {},
   "outputs": [
    {
     "data": {
      "text/plain": [
       "array([0.97083515, 0.82723109, 0.93091347])"
      ]
     },
     "execution_count": 14,
     "metadata": {},
     "output_type": "execute_result"
    }
   ],
   "source": [
    "#按维度（行）最大值\n",
    "arr.max(axis=1)"
   ]
  },
  {
   "cell_type": "code",
   "execution_count": 16,
   "id": "51a02248",
   "metadata": {},
   "outputs": [
    {
     "data": {
      "text/plain": [
       "array([[0.97083515],\n",
       "       [0.82723109],\n",
       "       [0.93091347]])"
      ]
     },
     "execution_count": 16,
     "metadata": {},
     "output_type": "execute_result"
    }
   ],
   "source": [
    "#按行 保持行维度   shape为（3，1）\n",
    "arr.max(axis=1,keepdims=True)"
   ]
  },
  {
   "cell_type": "code",
   "execution_count": 17,
   "id": "04724c87",
   "metadata": {},
   "outputs": [
    {
     "data": {
      "text/plain": [
       "array([2.14835661, 2.34595295, 1.3002283 ])"
      ]
     },
     "execution_count": 17,
     "metadata": {},
     "output_type": "execute_result"
    }
   ],
   "source": [
    "#按维度（行）求和\n",
    "arr.sum(axis=1)"
   ]
  },
  {
   "cell_type": "markdown",
   "id": "1e0c707b",
   "metadata": {},
   "source": [
    "## 形状和 转换"
   ]
  },
  {
   "cell_type": "markdown",
   "id": "8cb4a295",
   "metadata": {},
   "source": [
    "### 改变形状\n",
    "- 扩展1维度 expand_dims \n",
    "- 去除1维度 squeeze"
   ]
  },
  {
   "cell_type": "code",
   "execution_count": 19,
   "id": "7e36c554",
   "metadata": {},
   "outputs": [
    {
     "data": {
      "text/plain": [
       "array([[56, 73,  3, 69],\n",
       "       [44, 94,  4,  6],\n",
       "       [47, 69,  8, 92]], dtype=int64)"
      ]
     },
     "execution_count": 19,
     "metadata": {},
     "output_type": "execute_result"
    }
   ],
   "source": [
    "rng=np.random.default_rng(seed=40)\n",
    "arr=rng.integers(1,100,(3,4))\n",
    "arr"
   ]
  },
  {
   "cell_type": "code",
   "execution_count": 29,
   "id": "eb1b9ac7",
   "metadata": {},
   "outputs": [
    {
     "data": {
      "text/plain": [
       "array([[[56, 73,  3, 69],\n",
       "        [44, 94,  4,  6],\n",
       "        [47, 69,  8, 92]]], dtype=int64)"
      ]
     },
     "execution_count": 29,
     "metadata": {},
     "output_type": "execute_result"
    }
   ],
   "source": [
    "#扩展1个维度\n",
    "expanded=np.expand_dims(arr,0)\n",
    "expanded"
   ]
  },
  {
   "cell_type": "code",
   "execution_count": 28,
   "id": "43d4ae6f",
   "metadata": {},
   "outputs": [
    {
     "data": {
      "text/plain": [
       "(1, 3, 4)"
      ]
     },
     "execution_count": 28,
     "metadata": {},
     "output_type": "execute_result"
    }
   ],
   "source": [
    "expanded.shape"
   ]
  },
  {
   "cell_type": "markdown",
   "id": "761e7a3d",
   "metadata": {},
   "source": [
    "np.squeeze 指定的axis的shape必须为1"
   ]
  },
  {
   "cell_type": "code",
   "execution_count": 25,
   "id": "a022045b",
   "metadata": {},
   "outputs": [
    {
     "data": {
      "text/plain": [
       "array([[56, 73,  3, 69],\n",
       "       [44, 94,  4,  6],\n",
       "       [47, 69,  8, 92]], dtype=int64)"
      ]
     },
     "execution_count": 25,
     "metadata": {},
     "output_type": "execute_result"
    }
   ],
   "source": [
    "np.squeeze(expanded, axis=0)"
   ]
  },
  {
   "cell_type": "markdown",
   "id": "567a4468",
   "metadata": {},
   "source": [
    "# 分解和组合"
   ]
  },
  {
   "cell_type": "markdown",
   "id": "61cec794",
   "metadata": {},
   "source": [
    "## 切片和索引\n",
    "\n",
    "对已知array进行操作从而得到部分元素。 \n",
    "按照维度处理，不处理的维度用: 或者...代替\n",
    "-   逗号，分割维度"
   ]
  },
  {
   "cell_type": "code",
   "execution_count": 4,
   "id": "e8a72643",
   "metadata": {},
   "outputs": [
    {
     "data": {
      "text/plain": [
       "array([[ 1, 15, 13,  8],\n",
       "       [ 8, 17,  1, 13],\n",
       "       [ 4,  1, 10, 19],\n",
       "       [14, 15, 14, 15],\n",
       "       [10,  2, 16,  9]], dtype=int64)"
      ]
     },
     "execution_count": 4,
     "metadata": {},
     "output_type": "execute_result"
    }
   ],
   "source": [
    "rng=np.random.default_rng(42)\n",
    "arr = rng.integers(0, 20, (5, 4))\n",
    "arr"
   ]
  },
  {
   "cell_type": "markdown",
   "id": "d8ba5bec",
   "metadata": {},
   "source": [
    "### index/sclice"
   ]
  },
  {
   "cell_type": "code",
   "execution_count": 5,
   "id": "4b609d6b",
   "metadata": {},
   "outputs": [
    {
     "data": {
      "text/plain": [
       "array([ 1, 15, 13,  8], dtype=int64)"
      ]
     },
     "execution_count": 5,
     "metadata": {},
     "output_type": "execute_result"
    }
   ],
   "source": [
    "#取第0行\n",
    "arr[0]"
   ]
  },
  {
   "cell_type": "code",
   "execution_count": 6,
   "id": "7e02eeb3",
   "metadata": {},
   "outputs": [
    {
     "data": {
      "text/plain": [
       "array([[ 1, 15, 13,  8],\n",
       "       [14, 15, 14, 15]], dtype=int64)"
      ]
     },
     "execution_count": 6,
     "metadata": {},
     "output_type": "execute_result"
    }
   ],
   "source": [
    "#取第1、3行\n",
    "arr[[0,3]]"
   ]
  },
  {
   "cell_type": "code",
   "execution_count": 7,
   "id": "aa1a4d82",
   "metadata": {},
   "outputs": [
    {
     "data": {
      "text/plain": [
       "array([15, 17,  1, 15,  2], dtype=int64)"
      ]
     },
     "execution_count": 7,
     "metadata": {},
     "output_type": "execute_result"
    }
   ],
   "source": [
    "#第一列的值，其实是所有维度第1维的值\n",
    "arr[...,1]\n",
    "#也可写成arr[:,1]"
   ]
  },
  {
   "cell_type": "markdown",
   "id": "9e5fda64",
   "metadata": {},
   "source": [
    "### 拼接 对几个array进行拼接以形成大的array\n",
    "### np.concatenate"
   ]
  },
  {
   "cell_type": "code",
   "execution_count": 8,
   "id": "2a7a727e",
   "metadata": {},
   "outputs": [
    {
     "data": {
      "text/plain": [
       "array([[40, 37, 33, 48],\n",
       "       [45, 42, 38, 46],\n",
       "       [40, 38, 39, 34],\n",
       "       [31, 41, 47, 31],\n",
       "       [47, 46, 35, 42]], dtype=int64)"
      ]
     },
     "execution_count": 8,
     "metadata": {},
     "output_type": "execute_result"
    }
   ],
   "source": [
    "arr1 = rng.integers(30, 50, (5, 4))\n",
    "arr1"
   ]
  },
  {
   "cell_type": "code",
   "execution_count": 9,
   "id": "0ff9b4bd",
   "metadata": {},
   "outputs": [
    {
     "data": {
      "text/plain": [
       "array([[ 1, 15, 13,  8],\n",
       "       [ 8, 17,  1, 13],\n",
       "       [ 4,  1, 10, 19],\n",
       "       [14, 15, 14, 15],\n",
       "       [10,  2, 16,  9],\n",
       "       [40, 37, 33, 48],\n",
       "       [45, 42, 38, 46],\n",
       "       [40, 38, 39, 34],\n",
       "       [31, 41, 47, 31],\n",
       "       [47, 46, 35, 42]], dtype=int64)"
      ]
     },
     "execution_count": 9,
     "metadata": {},
     "output_type": "execute_result"
    }
   ],
   "source": [
    "#默认沿着axis=0（列）连接\n",
    "np.concatenate((arr,arr1))"
   ]
  },
  {
   "cell_type": "code",
   "execution_count": 10,
   "id": "d1241b44",
   "metadata": {},
   "outputs": [
    {
     "data": {
      "text/plain": [
       "array([[ 1, 15, 13,  8, 40, 37, 33, 48],\n",
       "       [ 8, 17,  1, 13, 45, 42, 38, 46],\n",
       "       [ 4,  1, 10, 19, 40, 38, 39, 34],\n",
       "       [14, 15, 14, 15, 31, 41, 47, 31],\n",
       "       [10,  2, 16,  9, 47, 46, 35, 42]], dtype=int64)"
      ]
     },
     "execution_count": 10,
     "metadata": {},
     "output_type": "execute_result"
    }
   ],
   "source": [
    "np.concatenate((arr,arr1),axis=1)"
   ]
  },
  {
   "cell_type": "code",
   "execution_count": null,
   "id": "54cac8bc",
   "metadata": {},
   "outputs": [],
   "source": []
  }
 ],
 "metadata": {
  "kernelspec": {
   "display_name": "Python 3 (ipykernel)",
   "language": "python",
   "name": "python3"
  },
  "language_info": {
   "codemirror_mode": {
    "name": "ipython",
    "version": 3
   },
   "file_extension": ".py",
   "mimetype": "text/x-python",
   "name": "python",
   "nbconvert_exporter": "python",
   "pygments_lexer": "ipython3",
   "version": "3.10.4"
  }
 },
 "nbformat": 4,
 "nbformat_minor": 5
}
